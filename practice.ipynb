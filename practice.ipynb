{
 "cells": [
  {
   "cell_type": "code",
   "execution_count": 6,
   "id": "c7fcdde1",
   "metadata": {},
   "outputs": [
    {
     "name": "stdout",
     "output_type": "stream",
     "text": [
      "30\n",
      "None\n",
      "30\n",
      "31\n",
      "27\n",
      "30\n",
      "27\n",
      "The youngest student is Tom who is 27 years old.\n"
     ]
    }
   ],
   "source": [
    "import csv\n",
    "youngest_student = None\n",
    "min_age = None\n",
    "\n",
    "with open('MOOC.csv', 'r') as csvfile:\n",
    "    reader = csv.DictReader(csvfile)\n",
    "    for row in reader:\n",
    "        age = int(row[\"age\"])\n",
    "        print (age)\n",
    "        if min_age == None or min_age > age:\n",
    "            print(min_age)\n",
    "            youngest_student = row[\"name\"]            \n",
    "            min_age = age\n",
    "            print(min_age)\n",
    "if min_age == None:\n",
    "    print(\"The file does not contain any students.\")\n",
    "else:\n",
    "    print(\"The youngest student is \" + str(youngest_student) + \" who is \" + str(min_age) + \" years old.\")"
   ]
  },
  {
   "cell_type": "code",
   "execution_count": 7,
   "id": "529166ed",
   "metadata": {},
   "outputs": [
    {
     "name": "stdout",
     "output_type": "stream",
     "text": [
      "Tom 27 180\n"
     ]
    }
   ],
   "source": [
    "import csv\n",
    "students = []#list\n",
    "with open('MOOC.csv', 'r') as csvfile:\n",
    "    reader = csv.DictReader(csvfile)\n",
    "    for row in reader:\n",
    "        students.append(row)\n",
    "filtered_students = [row for row in students if (int(row[\"age\"]) < 30 and float(row[\"weight\"]) < 190)]\n",
    "for student in filtered_students:\n",
    "    print(student[\"name\"], student[\"age\"], student[\"weight\"])"
   ]
  },
  {
   "cell_type": "code",
   "execution_count": null,
   "id": "5853b844",
   "metadata": {},
   "outputs": [],
   "source": []
  }
 ],
 "metadata": {
  "kernelspec": {
   "display_name": "Python 3",
   "language": "python",
   "name": "python3"
  },
  "language_info": {
   "codemirror_mode": {
    "name": "ipython",
    "version": 3
   },
   "file_extension": ".py",
   "mimetype": "text/x-python",
   "name": "python",
   "nbconvert_exporter": "python",
   "pygments_lexer": "ipython3",
   "version": "3.8.8"
  }
 },
 "nbformat": 4,
 "nbformat_minor": 5
}
